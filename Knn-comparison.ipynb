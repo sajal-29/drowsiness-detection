{
 "cells": [
  {
   "cell_type": "code",
   "execution_count": 11,
   "metadata": {},
   "outputs": [],
   "source": [
    "import cv2\n",
    "import os\n",
    "import numpy as np\n",
    "from sklearn.model_selection import train_test_split\n",
    "from sklearn.neighbors import KNeighborsClassifier\n",
    "from sklearn.metrics import accuracy_score\n",
    "from sklearn.preprocessing import StandardScaler\n",
    "\n",
    "# Specify the paths to your image folders\n",
    "closed_eye_folder = 'D:/3rd Year/project ML/train/Closed_Eyes'\n",
    "open_eye_folder = 'D:/3rd Year/project ML/train/Open_Eyes'\n",
    "\n",
    "# Initialize lists to store flattened images and labels\n",
    "flattened_images = []\n",
    "labels = []\n",
    "\n",
    "# Function to load, add noise, resize, and flatten images from a folder\n",
    "def load_add_noise_resize_and_flatten(folder, label, target_size=(100, 100), noise_level=50):\n",
    "    for filename in os.listdir(folder):\n",
    "        if filename.endswith(\".jpg\") or filename.endswith(\".png\"):\n",
    "            img_path = os.path.join(folder, filename)\n",
    "            img = cv2.imread(img_path, cv2.IMREAD_GRAYSCALE)\n",
    "            \n",
    "            # Add random noise to the image\n",
    "            noisy_img = img + np.random.normal(0, noise_level, img.shape)\n",
    "\n",
    "            # Resize the image to a consistent size\n",
    "            resized_img = cv2.resize(noisy_img, target_size)\n",
    "\n",
    "            # Flatten and convert to a NumPy array\n",
    "            flattened_img = np.array(resized_img).flatten()\n",
    "\n",
    "            # Append the flattened image to the list\n",
    "            flattened_images.append(flattened_img)\n",
    "            labels.append(label)\n",
    "\n",
    "# Load, add noise, resize, and flatten closed eye images\n",
    "load_add_noise_resize_and_flatten(closed_eye_folder, label=0)  # 0 for closed eye\n",
    "\n",
    "# Load, add noise, resize, and flatten open eye images\n",
    "load_add_noise_resize_and_flatten(open_eye_folder, label=1)  # 1 for open eye\n",
    "\n",
    "# Convert the lists to numpy arrays\n",
    "X = np.array(flattened_images)\n",
    "y = np.array(labels)\n"
   ]
  },
  {
   "cell_type": "code",
   "execution_count": 12,
   "metadata": {},
   "outputs": [
    {
     "name": "stdout",
     "output_type": "stream",
     "text": [
      "Accuracy: 0.9572968490878938\n"
     ]
    }
   ],
   "source": [
    "import cv2\n",
    "import os\n",
    "import numpy as np\n",
    "from sklearn.model_selection import train_test_split\n",
    "from sklearn.neighbors import KNeighborsClassifier\n",
    "from sklearn.metrics import accuracy_score\n",
    "from sklearn.preprocessing import StandardScaler\n",
    "\n",
    "\n",
    "X_train, X_test, y_train, y_test = train_test_split(X, y, test_size=0.2, random_state=42)\n",
    "\n",
    "# Standardize the feature vectors\n",
    "scaler = StandardScaler()\n",
    "X_train_std = scaler.fit_transform(X_train)\n",
    "X_test_std = scaler.transform(X_test)\n",
    "\n",
    "# Train the KNN classifier\n",
    "knn_classifier = KNeighborsClassifier(n_neighbors=3)\n",
    "knn_classifier.fit(X_train_std, y_train)\n",
    "\n",
    "# Make predictions on the test set\n",
    "y_pred = knn_classifier.predict(X_test_std)\n",
    "\n",
    "# Calculate the accuracy\n",
    "accuracy = accuracy_score(y_test, y_pred)\n",
    "print(f'Accuracy: {accuracy}')"
   ]
  }
 ],
 "metadata": {
  "kernelspec": {
   "display_name": "Python 3",
   "language": "python",
   "name": "python3"
  },
  "language_info": {
   "codemirror_mode": {
    "name": "ipython",
    "version": 3
   },
   "file_extension": ".py",
   "mimetype": "text/x-python",
   "name": "python",
   "nbconvert_exporter": "python",
   "pygments_lexer": "ipython3",
   "version": "3.11.1"
  }
 },
 "nbformat": 4,
 "nbformat_minor": 2
}
